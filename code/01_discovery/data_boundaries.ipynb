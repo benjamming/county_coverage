{
 "cells": [
  {
   "cell_type": "code",
   "execution_count": 2,
   "metadata": {},
   "outputs": [],
   "source": [
    "\"\"\"Boundary information for Jefferson County, KY, USA\"\"\"\n",
    "\n",
    "LONGITUDES = LONG_MIN, LONG_MAX = -85.94712712079293, -85.40492183942492\n",
    "LATITUDES = LAT_MIN, LAT_MAX = 37.99712528351634, 38.38023822809115\n",
    "\n",
    "DELTA_LONG = LONG_MAX - LONG_MIN  # == 0.5422052813680125\n",
    "DELTA_LAT = LAT_MAX - LAT_MIN  # == 0.3831129445748118\n",
    "\n",
    "SOURCE = \"/data/raw/Louisville_Metro_KY_County_Boundaries.geojson\"\n",
    "COUNTY = \"JEFFERSON\""
   ]
  },
  {
   "cell_type": "code",
   "execution_count": null,
   "metadata": {},
   "outputs": [],
   "source": []
  }
 ],
 "metadata": {
  "kernelspec": {
   "display_name": "venv",
   "language": "python",
   "name": "python3"
  },
  "language_info": {
   "codemirror_mode": {
    "name": "ipython",
    "version": 3
   },
   "file_extension": ".py",
   "mimetype": "text/x-python",
   "name": "python",
   "nbconvert_exporter": "python",
   "pygments_lexer": "ipython3",
   "version": "3.11.1"
  }
 },
 "nbformat": 4,
 "nbformat_minor": 2
}
