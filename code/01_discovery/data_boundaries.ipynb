{
 "cells": [
  {
   "cell_type": "code",
   "execution_count": 108,
   "metadata": {},
   "outputs": [],
   "source": [
    "\"\"\"Boundary information for Jefferson County, KY, USA\"\"\"\n",
    "\n",
    "LONGITUDES = LONG_MIN, LONG_MAX = -85.94712712079293, -85.3474509339146\n",
    "LATITUDES = LAT_MIN, LAT_MAX = 37.99712528351634, 38.38023822809115\n",
    "\n",
    "DELTA_LONG = LONG_MAX - LONG_MIN  # == 0.5422052813680125\n",
    "DELTA_LAT = LAT_MAX - LAT_MIN  # == 0.3831129445748118\n",
    "\n",
    "SOURCE = \"../../data/raw/Louisville_Metro_KY_County_Boundaries.geojson\""
   ]
  },
  {
   "cell_type": "code",
   "execution_count": 109,
   "metadata": {},
   "outputs": [],
   "source": [
    "import json\n",
    "import os\n",
    "\n",
    "assert os.path.exists(SOURCE)"
   ]
  },
  {
   "cell_type": "markdown",
   "metadata": {},
   "source": [
    "The first few lines of the SOURCE file to show the json structure. \n",
    "\n",
    "```json\n",
    "{\"type\": \"FeatureCollection\",\n",
    "\"name\": \"Louisville_Metro_KY_County_Boundaries\",\n",
    "\"crs\": { \"type\": \"name\", \"properties\": { \"name\": \"urn:ogc:def:crs:OGC:1.3:CRS84\" } },\n",
    "\"features\": [\n",
    "{ \"type\": \"Feature\", \"properties\": { \"OBJECTID\": 1, \"CNTY_NAME\": \"TRIMBLE\", \"FIPS\": \"21223\", \"STATE_FIPS\": \"21\", \"CNTY_FIPS\": \"223\", \"SHAPEAREA\": 4349563592.2746, \"SHAPELEN\": 294807.53917238303 }, \"geometry\": { \"type\": \"Polygon\", \"coordinates\": [ [ [ -85.330957285908198, 38.729777516517807 ], [ -85.333144049715258, 38.73595715131929 ], [ -85.333786967475902, 38.735797268561612 ], [ -85.334517444333343, 38.735706030319307 ], [ -85.335569338778541, 38.```"
   ]
  },
  {
   "cell_type": "code",
   "execution_count": 110,
   "metadata": {},
   "outputs": [],
   "source": [
    "with open(SOURCE, 'r') as file:\n",
    "    data = json.load(file)\n",
    "\n",
    "len(data['features'])\n",
    "# 12. Each feature is a county boundary. Need to find the right one.\n",
    "counties = data['features']\n",
    "\n",
    "#counties[11]"
   ]
  },
  {
   "cell_type": "markdown",
   "metadata": {},
   "source": [
    "Each country feature looks like this.\n",
    "\n",
    "```json\n",
    "{'type': 'Feature',\n",
    " 'properties': {'OBJECTID': 12,\n",
    "  'CNTY_NAME': 'HARDIN',\n",
    "  'FIPS': '21093',\n",
    "  'STATE_FIPS': '21',\n",
    "  'CNTY_FIPS': '093',\n",
    "  'SHAPEAREA': 17568447077.2728,\n",
    "  'SHAPELEN': 770448.545351739},\n",
    " 'geometry': {'type': 'Polygon',\n",
    "  'coordinates': [[[-85.94710131294255, 38.005040670600735],\n",
    "    [-85.94712712079293, 38.00507533300107],\n",
    "    [-85.94842096276824, 38.00478988630253],\n",
    "    [-85.95015645439582, 38.004582735612516],\n",
    "    [-85.95154500854562, 38.00455901793901],\n",
    "```"
   ]
  },
  {
   "cell_type": "code",
   "execution_count": 111,
   "metadata": {},
   "outputs": [],
   "source": [
    "# The county I am interested in is Jefferson.\n",
    "\n",
    "\n",
    "for county in counties:\n",
    "    if county['properties']['CNTY_NAME'] == 'JEFFERSON':\n",
    "        JEFFCO = county\n",
    "        break\n",
    "\n",
    "coordinates = JEFFCO['geometry']['coordinates'][0]\n",
    "\n",
    "longitudes, latitudes = set(), set()\n",
    "for long, lat in coordinates:\n",
    "    longitudes.add(long)\n",
    "    latitudes.add(lat)\n",
    "\n",
    "blong_max = max(longitudes)\n",
    "blong_min = min(longitudes)\n",
    "blat_max = max(latitudes)\n",
    "blat_min = min(latitudes)"
   ]
  },
  {
   "cell_type": "code",
   "execution_count": 112,
   "metadata": {},
   "outputs": [],
   "source": [
    "CENTERLINES = \"../../data/cleaner/centerlines_raw.csv\"\n",
    "assert os.path.exists(CENTERLINES)\n",
    "\n",
    "import pandas as pd\n",
    "cl = pd.read_csv(CENTERLINES, low_memory=False)\n",
    "coords = cl['COORDINATES'].to_list()\n"
   ]
  },
  {
   "cell_type": "code",
   "execution_count": 113,
   "metadata": {},
   "outputs": [],
   "source": [
    "\n",
    "#coords[0]\n",
    "# Each cooordinate is a string.\n",
    "# Like this: '-85.6809503218278,38.1588670887491 -85.6810007757001,38.158161039538 -85.681234634906,38.1581804844049'\n",
    "\n",
    "list(map(float, coords[4].split()[0].split(','))) # Works\n",
    "\n",
    "longitudes, latitudes = set(), set()\n",
    "for coordinate_string in coords:\n",
    "    points = coordinate_string.split()\n",
    "    for point in points:\n",
    "        long, lat = map(float, point.split(','))\n",
    "        longitudes.add(long)\n",
    "        latitudes.add(lat)\n",
    "\n",
    "clong_max = max(longitudes)\n",
    "clong_min = min(longitudes)\n",
    "clat_max = max(latitudes)\n",
    "clat_min = min(latitudes)"
   ]
  },
  {
   "cell_type": "code",
   "execution_count": 114,
   "metadata": {},
   "outputs": [],
   "source": [
    "long_max = max(blong_max, clong_max)\n",
    "long_min = min(blong_min, clong_min)\n",
    "lat_max = max(blat_max, clat_max)\n",
    "lat_min = min(blat_min, clat_min)\n"
   ]
  },
  {
   "cell_type": "code",
   "execution_count": 119,
   "metadata": {},
   "outputs": [
    {
     "data": {
      "text/plain": [
       "True"
      ]
     },
     "execution_count": 119,
     "metadata": {},
     "output_type": "execute_result"
    }
   ],
   "source": [
    "LONG_MAX == long_max"
   ]
  },
  {
   "cell_type": "code",
   "execution_count": 116,
   "metadata": {},
   "outputs": [
    {
     "data": {
      "text/plain": [
       "True"
      ]
     },
     "execution_count": 116,
     "metadata": {},
     "output_type": "execute_result"
    }
   ],
   "source": [
    "LONG_MIN == long_min"
   ]
  },
  {
   "cell_type": "code",
   "execution_count": 117,
   "metadata": {},
   "outputs": [
    {
     "data": {
      "text/plain": [
       "True"
      ]
     },
     "execution_count": 117,
     "metadata": {},
     "output_type": "execute_result"
    }
   ],
   "source": [
    "LAT_MAX == lat_max"
   ]
  },
  {
   "cell_type": "code",
   "execution_count": 118,
   "metadata": {},
   "outputs": [
    {
     "data": {
      "text/plain": [
       "True"
      ]
     },
     "execution_count": 118,
     "metadata": {},
     "output_type": "execute_result"
    }
   ],
   "source": [
    "LAT_MIN == lat_min"
   ]
  }
 ],
 "metadata": {
  "kernelspec": {
   "display_name": "venv",
   "language": "python",
   "name": "python3"
  },
  "language_info": {
   "codemirror_mode": {
    "name": "ipython",
    "version": 3
   },
   "file_extension": ".py",
   "mimetype": "text/x-python",
   "name": "python",
   "nbconvert_exporter": "python",
   "pygments_lexer": "ipython3",
   "version": "3.11.1"
  }
 },
 "nbformat": 4,
 "nbformat_minor": 2
}
