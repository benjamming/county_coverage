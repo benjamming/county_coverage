{
 "cells": [
  {
   "cell_type": "code",
   "execution_count": 30,
   "metadata": {},
   "outputs": [],
   "source": [
    "\"\"\"Boundary information for Jefferson County, KY, USA\"\"\"\n",
    "\n",
    "LONGITUDES = LONG_MIN, LONG_MAX = -85.94712712079293, -85.40492183942492\n",
    "LATITUDES = LAT_MIN, LAT_MAX = 37.99712528351634, 38.38023822809115\n",
    "\n",
    "DELTA_LONG = LONG_MAX - LONG_MIN  # == 0.5422052813680125\n",
    "DELTA_LAT = LAT_MAX - LAT_MIN  # == 0.3831129445748118\n",
    "\n",
    "SOURCE = \"../../data/raw/Louisville_Metro_KY_County_Boundaries.geojson\""
   ]
  },
  {
   "cell_type": "code",
   "execution_count": 15,
   "metadata": {},
   "outputs": [],
   "source": [
    "import json\n",
    "import os\n",
    "\n",
    "assert os.path.exists(SOURCE)"
   ]
  },
  {
   "cell_type": "markdown",
   "metadata": {},
   "source": [
    "The first few lines of the SOURCE file to show the json structure. \n",
    "\n",
    "```json\n",
    "{\"type\": \"FeatureCollection\",\n",
    "\"name\": \"Louisville_Metro_KY_County_Boundaries\",\n",
    "\"crs\": { \"type\": \"name\", \"properties\": { \"name\": \"urn:ogc:def:crs:OGC:1.3:CRS84\" } },\n",
    "\"features\": [\n",
    "{ \"type\": \"Feature\", \"properties\": { \"OBJECTID\": 1, \"CNTY_NAME\": \"TRIMBLE\", \"FIPS\": \"21223\", \"STATE_FIPS\": \"21\", \"CNTY_FIPS\": \"223\", \"SHAPEAREA\": 4349563592.2746, \"SHAPELEN\": 294807.53917238303 }, \"geometry\": { \"type\": \"Polygon\", \"coordinates\": [ [ [ -85.330957285908198, 38.729777516517807 ], [ -85.333144049715258, 38.73595715131929 ], [ -85.333786967475902, 38.735797268561612 ], [ -85.334517444333343, 38.735706030319307 ], [ -85.335569338778541, 38.```"
   ]
  },
  {
   "cell_type": "code",
   "execution_count": 34,
   "metadata": {},
   "outputs": [],
   "source": [
    "with open(SOURCE, 'r') as file:\n",
    "    data = json.load(file)\n",
    "\n",
    "len(data['features'])\n",
    "# 12. Each feature is a county boundary. Need to find the right one.\n",
    "counties = data['features']\n",
    "\n",
    "#counties[11]"
   ]
  },
  {
   "cell_type": "markdown",
   "metadata": {},
   "source": [
    "Each country feature looks like this.\n",
    "\n",
    "```json\n",
    "{'type': 'Feature',\n",
    " 'properties': {'OBJECTID': 12,\n",
    "  'CNTY_NAME': 'HARDIN',\n",
    "  'FIPS': '21093',\n",
    "  'STATE_FIPS': '21',\n",
    "  'CNTY_FIPS': '093',\n",
    "  'SHAPEAREA': 17568447077.2728,\n",
    "  'SHAPELEN': 770448.545351739},\n",
    " 'geometry': {'type': 'Polygon',\n",
    "  'coordinates': [[[-85.94710131294255, 38.005040670600735],\n",
    "    [-85.94712712079293, 38.00507533300107],\n",
    "    [-85.94842096276824, 38.00478988630253],\n",
    "    [-85.95015645439582, 38.004582735612516],\n",
    "    [-85.95154500854562, 38.00455901793901],\n",
    "```"
   ]
  },
  {
   "cell_type": "code",
   "execution_count": 55,
   "metadata": {},
   "outputs": [],
   "source": [
    "# The county I am interested in is Jefferson.\n",
    "\n",
    "\n",
    "for county in counties:\n",
    "    if county['properties']['CNTY_NAME'] == 'JEFFERSON':\n",
    "        JEFFCO = county\n",
    "        break\n",
    "\n",
    "coordinates = JEFFCO['geometry']['coordinates'][0]\n",
    "\n",
    "longitudes, latitudes = set(), set()\n",
    "for long, lat in coordinates:\n",
    "    longitudes.add(long)\n",
    "    latitudes.add(lat)"
   ]
  },
  {
   "cell_type": "code",
   "execution_count": 60,
   "metadata": {},
   "outputs": [],
   "source": [
    "assert max(longitudes) == LONG_MAX \n",
    "assert min(longitudes) == LONG_MIN\n",
    "assert max(latitudes) == LAT_MAX\n",
    "assert min(latitudes) == LAT_MIN"
   ]
  }
 ],
 "metadata": {
  "kernelspec": {
   "display_name": "venv",
   "language": "python",
   "name": "python3"
  },
  "language_info": {
   "codemirror_mode": {
    "name": "ipython",
    "version": 3
   },
   "file_extension": ".py",
   "mimetype": "text/x-python",
   "name": "python",
   "nbconvert_exporter": "python",
   "pygments_lexer": "ipython3",
   "version": "3.11.1"
  }
 },
 "nbformat": 4,
 "nbformat_minor": 2
}
