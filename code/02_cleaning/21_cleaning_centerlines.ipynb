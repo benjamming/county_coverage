{
 "cells": [
  {
   "cell_type": "code",
   "execution_count": 9,
   "metadata": {},
   "outputs": [],
   "source": [
    "DATA = \"../../data/cleaner/centerlines_raw.csv\"\n",
    "\n",
    "from os import path\n",
    "assert path.exists(DATA)\n",
    "\n",
    "import pandas as pd"
   ]
  },
  {
   "cell_type": "code",
   "execution_count": 31,
   "metadata": {},
   "outputs": [
    {
     "name": "stderr",
     "output_type": "stream",
     "text": [
      "/var/folders/7s/9_9p_dsj0n9581txqt_9rrpc0000gn/T/ipykernel_6947/1827057279.py:1: DtypeWarning: Columns (58) have mixed types. Specify dtype option on import or set low_memory=False.\n",
      "  df = pd.read_csv(DATA, index_col='OBJECTID')\n"
     ]
    }
   ],
   "source": [
    "df = pd.read_csv(DATA, index_col='OBJECTID')\n",
    "\n",
    "# Split off coordinates\n",
    "coordinates = df['COORDINATES']\n",
    "\n",
    "def point(string):\n",
    "    return tuple(float(number) for number in string.split(','))\n",
    "\n",
    "#CC = CC.str.split().apply(lambda coordinates:list(map(point, coordinates)))\n",
    "\n",
    "coordinates.to_csv('../../data/cleaner/centerline_coordinates.csv')\n"
   ]
  },
  {
   "cell_type": "code",
   "execution_count": 48,
   "metadata": {},
   "outputs": [],
   "source": [
    "# Split off centerline data\n",
    "\n",
    "data = df.drop(['GLOBALID', 'COORDINATES', 'SHAPELEN'], axis=1)\n",
    "data.to_csv('../../data/cleaner/centerline_data.csv')"
   ]
  }
 ],
 "metadata": {
  "kernelspec": {
   "display_name": "venv",
   "language": "python",
   "name": "python3"
  },
  "language_info": {
   "codemirror_mode": {
    "name": "ipython",
    "version": 3
   },
   "file_extension": ".py",
   "mimetype": "text/x-python",
   "name": "python",
   "nbconvert_exporter": "python",
   "pygments_lexer": "ipython3",
   "version": "3.11.1"
  }
 },
 "nbformat": 4,
 "nbformat_minor": 2
}
