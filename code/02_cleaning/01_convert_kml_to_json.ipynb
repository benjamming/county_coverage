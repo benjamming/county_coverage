{
 "cells": [
  {
   "cell_type": "code",
   "execution_count": 14,
   "metadata": {},
   "outputs": [],
   "source": [
    "import json\n",
    "import os\n",
    "from collections import OrderedDict\n",
    "from os import path\n",
    "from sys import argv\n",
    "from pykml import parser\n",
    "from re import compile as re_compile\n",
    "\n",
    "import pandas as pd"
   ]
  },
  {
   "cell_type": "code",
   "execution_count": 15,
   "metadata": {},
   "outputs": [
    {
     "data": {
      "text/plain": [
       "'../../data/raw/rides/February_1st_ride.kml'"
      ]
     },
     "execution_count": 15,
     "metadata": {},
     "output_type": "execute_result"
    }
   ],
   "source": [
    "RIDES_DIRECTORY = \"../../data/raw/rides\"\n",
    "CLEAN_DIRECTORY = \"../../data/cleaner/rides\"\n",
    "path.exists(RIDES_DIRECTORY)\n",
    "RIDE_PATHS = [path.join(RIDES_DIRECTORY, R) for R in os.listdir(RIDES_DIRECTORY)]\n",
    "\n",
    "def select_ride(index, ride_paths=RIDE_PATHS):\n",
    "    route = ride_paths[index]\n",
    "    assert path.exists(route)\n",
    "    return route\n",
    "\n",
    "TESTRIDE = select_ride(1)\n",
    "TESTRIDE"
   ]
  },
  {
   "cell_type": "markdown",
   "metadata": {},
   "source": [
    "```xml\n",
    "<?xml version=\"1.0\" encoding=\"UTF-8\"?>\n",
    "<kml xmlns=\"http://www.opengis.net/kml/2.2\">\n",
    "  <Document>\n",
    "    <description>A Trip recorded by Ben on Feb 01, 24 -- View in full at http://ridewithgps.com/trips/144448061</description>\n",
    "    <name>February 1st ride</name>\n",
    "    <Style id=\"default_style\">\n",
    "      <LineStyle>\n",
    "        <color>ff0000ff</color>\n",
    "        <width>2</width>\n",
    "      </LineStyle>\n",
    "    </Style>\n",
    "    <Placemark>\n",
    "      <description> -- View in full at http://ridewithgps.com/trips/144448061</description>\n",
    "      <name>February 1st ride</name>\n",
    "      <visibility>1</visibility>\n",
    "      <flyToView>1</flyToView>\n",
    "      <styleUrl>#default_style</styleUrl>\n",
    "      <LineString>\n",
    "        <extrude>1</extrude>\n",
    "        <tessellate>1</tessellate>\n",
    "        <altitudeMode>clampedToGround</altitudeMode>\n",
    "        <coordinates>\n",
    "-85.722417,38.240141,118.9\n",
    "-85.72237,38.240123,119.0\n",
    "-85.722363,38.240131,118.6\n",
    "...\n",
    "```"
   ]
  },
  {
   "cell_type": "code",
   "execution_count": 16,
   "metadata": {},
   "outputs": [],
   "source": [
    "def get_kml_root(kml_file_path):\n",
    "    with open(kml_file_path, 'r') as file:\n",
    "        parsed = parser.parse(file)\n",
    "    return parsed.getroot()"
   ]
  },
  {
   "cell_type": "code",
   "execution_count": 17,
   "metadata": {},
   "outputs": [],
   "source": [
    "def kml_points_generator(root):\n",
    "    for chunk in root.Document.Placemark.LineString.coordinates.text.split():\n",
    "        longitude, latitude, _ = chunk.split(',')\n",
    "        yield (float(longitude), float(latitude))"
   ]
  },
  {
   "cell_type": "code",
   "execution_count": 18,
   "metadata": {},
   "outputs": [],
   "source": [
    "def get_box(points):\n",
    "    longitude, latitude = set(), set()\n",
    "    for long, lat in points:\n",
    "        longitude.add(long)\n",
    "        latitude.add(lat)\n",
    "    out = dict()\n",
    "    for dimension in ('longitude', 'latitude'):\n",
    "        values = eval(dimension)\n",
    "        out[dimension] = {'min':min(values), 'max':max(values)}\n",
    "    return out"
   ]
  },
  {
   "cell_type": "code",
   "execution_count": 19,
   "metadata": {},
   "outputs": [],
   "source": [
    "description_regex = re_compile(\".*\\s(\\w+)\\s(\\d\\d),\\s(\\d\\d) -- .*trips/(\\d*)\")\n",
    "\n",
    "def make_data_object(kml_filepath):\n",
    "    # Open KML file and get root fo KML document\n",
    "    with open(kml_filepath, 'r') as file:\n",
    "        parsed = parser.parse(file)\n",
    "    root = parsed.getroot()\n",
    "    \n",
    "    # Create dictionary to hold KML data\n",
    "    data = OrderedDict()\n",
    "\n",
    "    # Add source and ride name information\n",
    "    data['name'] = root.Document.name.text\n",
    "    data['source'] = path.basename(kml_filepath)\n",
    "\n",
    "    # Parse out description from document\n",
    "    description = root.Document.description.text\n",
    "    month, day, year, ride_id = description_regex.match(description).groups()\n",
    "    year = f\"20{year}\"\n",
    "    data['date'] = ' '.join((month, day, year))\n",
    "    data['id'] = ride_id\n",
    "\n",
    "    points = tuple(kml_points_generator(root))\n",
    "    data['box'] = get_box(points)\n",
    "    data['data'] = points\n",
    "    return data\n",
    "\n",
    "def make_filename(data_object):\n",
    "    \"\"\"Create unique file name for json file based on ride date\"\"\"\n",
    "    datestring = data_object['date'].replace(' ', '_')\n",
    "    return f\"{datestring}_ride.json\"\n",
    "\n",
    "#jfile = make_data_object(TESTRIDE)\n",
    "\n",
    "def create_json_file(kml_filepath, clean_directory):\n",
    "    \"\"\"Main function to read in KML and write json file\"\"\"\n",
    "    json_data = make_data_object(kml_filepath)\n",
    "    json_name = make_filename(json_data)\n",
    "    json_path = path.join(clean_directory, json_name)\n",
    "    with open(json_path, 'w') as file:\n",
    "        json.dump(json_data, file)\n",
    "    return"
   ]
  },
  {
   "cell_type": "code",
   "execution_count": 20,
   "metadata": {},
   "outputs": [],
   "source": [
    "create_json_file(TESTRIDE, CLEAN_DIRECTORY)"
   ]
  },
  {
   "cell_type": "code",
   "execution_count": 21,
   "metadata": {},
   "outputs": [],
   "source": [
    "# Read in json\n",
    "\n",
    "class Ride(OrderedDict):\n",
    "    def __init__(self, *, name, source, date, id, box, points):\n",
    "        self['name'] = name\n",
    "        self['source'] = source\n",
    "        self['date'] = date\n",
    "        self['id'] = id\n",
    "        self['box'] = box\n",
    "        self['data'] = pd.Series(data).apply(tuple)"
   ]
  },
  {
   "cell_type": "code",
   "execution_count": 23,
   "metadata": {},
   "outputs": [
    {
     "data": {
      "text/plain": [
       "Ride([('name', 'February 1st ride'),\n",
       "      ('source', 'February_1st_ride.kml'),\n",
       "      ('date', 'Feb 01 2024'),\n",
       "      ('id', '144448061'),\n",
       "      ('box',\n",
       "       {'longitude': {'min': -85.752252, 'max': -85.704454},\n",
       "        'latitude': {'min': 38.239911, 'max': 38.270028}}),\n",
       "      ('data',\n",
       "       0       (-85.722417, 38.240141)\n",
       "       1        (-85.72237, 38.240123)\n",
       "       2       (-85.722363, 38.240131)\n",
       "       3        (-85.72235, 38.240149)\n",
       "       4       (-85.722346, 38.240171)\n",
       "                        ...           \n",
       "       1933     (-85.72238, 38.240185)\n",
       "       1934    (-85.722357, 38.240174)\n",
       "       1935    (-85.722356, 38.240174)\n",
       "       1936    (-85.722357, 38.240174)\n",
       "       1937    (-85.722355, 38.240176)\n",
       "       Length: 1938, dtype: object)])"
      ]
     },
     "execution_count": 23,
     "metadata": {},
     "output_type": "execute_result"
    }
   ],
   "source": [
    "\n",
    "def read_in_json(json_path):\n",
    "    with open(json_path, 'r') as file:\n",
    "        jfile = json.load(file)\n",
    "    json_data = Ride(name=jfile['name'], source=jfile['source'], id=jfile['id'],\n",
    "                     date=jfile['date'], box=jfile['box'], points=jfile['data'])\n",
    "    return json_data\n",
    "\n",
    "read_in_json(\"../../data/cleaner/rides/Feb_01_2024_ride.json\")"
   ]
  },
  {
   "cell_type": "code",
   "execution_count": 24,
   "metadata": {},
   "outputs": [],
   "source": [
    "for ride in RIDE_PATHS:\n",
    "    create_json_file(ride, CLEAN_DIRECTORY)"
   ]
  }
 ],
 "metadata": {
  "kernelspec": {
   "display_name": "venv",
   "language": "python",
   "name": "python3"
  },
  "language_info": {
   "codemirror_mode": {
    "name": "ipython",
    "version": 3
   },
   "file_extension": ".py",
   "mimetype": "text/x-python",
   "name": "python",
   "nbconvert_exporter": "python",
   "pygments_lexer": "ipython3",
   "version": "3.11.1"
  }
 },
 "nbformat": 4,
 "nbformat_minor": 2
}
